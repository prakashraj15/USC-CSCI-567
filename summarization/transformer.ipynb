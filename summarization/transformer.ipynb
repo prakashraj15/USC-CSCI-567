{
 "cells": [
  {
   "cell_type": "code",
   "execution_count": null,
   "metadata": {},
   "outputs": [],
   "source": [
    "import os \n",
    "import pandas as pd\n",
    "import numpy as np\n",
    "from tqdm.notebook import tqdm \n",
    "import math\n",
    "from deep_translator import GoogleTranslator\n",
    "from transformers import AutoTokenizer, AutoModelWithLMHead , AutoModelForSeq2SeqLM"
   ]
  },
  {
   "cell_type": "code",
   "execution_count": null,
   "metadata": {},
   "outputs": [],
   "source": [
    "tokenizer_hindi = AutoTokenizer.from_pretrained(\"rahular/varta-t5\")\n",
    "model_hindi = AutoModelForSeq2SeqLM.from_pretrained(\"rahular/varta-t5\")\n",
    "\n",
    "def summarize_transformer_hindi(sentences):\n",
    "    inputs=tokenizer_hindi.encode(\"summarize: \" +\"\".join(sentences),return_tensors='pt', max_length=512, truncation=True)\n",
    "    output = model_hindi.generate(inputs, min_length=80, max_length=100)\n",
    "    summary=tokenizer_hindi.decode(output[0])\n",
    "    summary=summary.replace('<pad>','')\n",
    "    summary=summary.replace('</s>','')\n",
    "    summary=summary.replace('<unk>','<')\n",
    "    summary= summary.strip(' ')\n",
    "    return summary"
   ]
  },
  {
   "cell_type": "code",
   "execution_count": null,
   "metadata": {},
   "outputs": [],
   "source": [
    "input_path=\"../data/\"\n",
    "output_path=\"../results/summary/\"\n",
    "os.makedirs(output_path, exist_ok=True)\n",
    "if os.path.exists(output_path) == False:\n",
    "    os.mkdir(output_path)\n",
    "\n",
    "data = pd.read_csv(f'{input_path}data.csv')\n",
    "sentences = data['sentences'].apply(eval)\n",
    "\n",
    "summary=[]\n",
    "for i in tqdm(range(len(sentences))):\n",
    "    summary.append(summarize_transformer_hindi( sentences[i]))\n",
    "\n",
    "data['summary'] = summary\n",
    "\n",
    "data.to_csv(f'{output_path}transformer.csv', index=False)"
   ]
  }
 ],
 "metadata": {
  "kernelspec": {
   "display_name": "HLDC",
   "language": "python",
   "name": "hldc"
  },
  "language_info": {
   "codemirror_mode": {
    "name": "ipython",
    "version": 3
   },
   "file_extension": ".py",
   "mimetype": "text/x-python",
   "name": "python",
   "nbconvert_exporter": "python",
   "pygments_lexer": "ipython3",
   "version": "3.10.12"
  }
 },
 "nbformat": 4,
 "nbformat_minor": 2
}
