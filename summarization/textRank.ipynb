{
 "cells": [
  {
   "cell_type": "code",
   "execution_count": null,
   "id": "bc1a34d7-9208-42d0-8374-6c2658a574ee",
   "metadata": {},
   "outputs": [],
   "source": [
    "import pandas as pd\n",
    "import math\n",
    "import os\n",
    "from tqdm.notebook import tqdm\n",
    "import networkx as nx\n",
    "import numpy as np\n",
    "import scipy.sparse as sp\n",
    "# from nltk.tokenize.punkt import PunktSentenceTokenizer\n",
    "from sklearn.feature_extraction.text import TfidfTransformer, CountVectorizer\n",
    "from deep_translator import GoogleTranslator"
   ]
  },
  {
   "cell_type": "code",
   "execution_count": null,
   "id": "e4343ee2-4d17-49b4-9980-e76a0955e6f9",
   "metadata": {},
   "outputs": [],
   "source": [
    "def summarize_textrank(sentences):\n",
    "    # sentence_tokenizer = PunktSentenceTokenizer()\n",
    "    # sentences = sentence_tokenizer.tokenize(document)\n",
    "\n",
    "    bow_matrix = CountVectorizer().fit_transform(sentences)\n",
    "    normalized = TfidfTransformer().fit_transform(bow_matrix)\n",
    "\n",
    "    similarity_graph = normalized * normalized.T\n",
    "    sparse_matrix = sp.csr_matrix(similarity_graph)\n",
    "    nx_graph = nx.Graph(sparse_matrix)\n",
    "    scores = nx.pagerank(nx_graph)\n",
    "    sentence_array = sorted(((scores[i], s) for i, s in enumerate(sentences)), reverse=True)\n",
    "    \n",
    "    sentence_array = np.asarray(sentence_array)\n",
    "    \n",
    "    fmax = float(sentence_array[0][0])\n",
    "    fmin = float(sentence_array[len(sentence_array) - 1][0])\n",
    "    \n",
    "    temp_array = []\n",
    "    for i in range(0, len(sentence_array)):\n",
    "        if fmax - fmin == 0:\n",
    "            temp_array.append(0)\n",
    "        else:\n",
    "            temp_array.append((float(sentence_array[i][0]) - fmin) / (fmax - fmin))\n",
    "\n",
    "    threshold = (sum(temp_array) / len(temp_array)) + 0.2\n",
    "    \n",
    "    sentence_list = []\n",
    "\n",
    "    for i in range(0, len(temp_array)):\n",
    "        if temp_array[i] > threshold:\n",
    "            sentence_list.append(sentence_array[i][1])\n",
    "\n",
    "    seq_list = []\n",
    "    for sentence in sentences:\n",
    "        if sentence in sentence_list:\n",
    "            seq_list.append(sentence)\n",
    "    return seq_list"
   ]
  },
  {
   "cell_type": "code",
   "execution_count": null,
   "id": "0004a573",
   "metadata": {},
   "outputs": [],
   "source": [
    "input_path=\"../data/\"\n",
    "output_path=\"../results/summary/\"\n",
    "os.makedirs(output_path, exist_ok=True)\n",
    "if os.path.exists(output_path) == False:\n",
    "    os.mkdir(output_path)\n",
    "\n",
    "data = pd.read_csv(f'{input_path}data.csv')\n",
    "sentences = data['sentences'].apply(eval)\n",
    "\n",
    "summary=[]\n",
    "for i in tqdm(range(len(sentences))):\n",
    "    summary.append(summarize_textrank( sentences[i]) ) \n",
    "\n",
    "data['summary'] = summary\n",
    "\n",
    "data.to_csv(f'{output_path}textRank.csv', index=False)"
   ]
  }
 ],
 "metadata": {
  "kernelspec": {
   "display_name": "HLDC",
   "language": "python",
   "name": "hldc"
  },
  "language_info": {
   "codemirror_mode": {
    "name": "ipython",
    "version": 3
   },
   "file_extension": ".py",
   "mimetype": "text/x-python",
   "name": "python",
   "nbconvert_exporter": "python",
   "pygments_lexer": "ipython3",
   "version": "3.10.12"
  }
 },
 "nbformat": 4,
 "nbformat_minor": 5
}
