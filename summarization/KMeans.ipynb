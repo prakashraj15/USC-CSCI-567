{
 "cells": [
  {
   "cell_type": "code",
   "execution_count": null,
   "metadata": {},
   "outputs": [],
   "source": [
    "import os \n",
    "import pandas as pd\n",
    "import numpy as np\n",
    "from tqdm.notebook import tqdm \n",
    "\n",
    "from sklearn.metrics.pairwise import cosine_similarity\n",
    "from sklearn.cluster import KMeans\n",
    "\n",
    "from sentence_transformers import SentenceTransformer, util\n",
    "modelHindi = SentenceTransformer('sentence-transformers/paraphrase-multilingual-mpnet-base-v2')"
   ]
  },
  {
   "cell_type": "code",
   "execution_count": null,
   "metadata": {},
   "outputs": [],
   "source": [
    "def summarize_kmeans(sentences,hindi=False):\n",
    "   \n",
    "    model=modelHindi\n",
    "    embeddings = [model.encode(sentence) for sentence in sentences]\n",
    "    k=max(1,len(sentences)//4)\n",
    "    kmeans = KMeans(n_clusters=k, n_init=k,random_state=0).fit(embeddings)\n",
    "    cluster_centers = kmeans.cluster_centers_\n",
    "    cluster_indices = kmeans.predict(embeddings)\n",
    "\n",
    "    summary_sentences = []\n",
    "    for i in range(k):\n",
    "        cluster = [sentences[j] for j in range(len(sentences)) if cluster_indices[j] == i]\n",
    "        cluster_embeddings = [embeddings[j] for j in range(len(sentences)) if cluster_indices[j] == i]\n",
    "        centroid = cluster_centers[i]\n",
    "        closest_sentence_idx = min(range(len(cluster_embeddings)), key=lambda x: cosine_similarity([centroid], [cluster_embeddings[x]]))\n",
    "        summary_sentences.append(cluster[closest_sentence_idx])\n",
    "    return summary_sentences"
   ]
  },
  {
   "cell_type": "code",
   "execution_count": null,
   "metadata": {},
   "outputs": [],
   "source": [
    "input_path=\"../data/\"\n",
    "\n",
    "# Recursively create output directory if it doesn't exist\n",
    "output_path=\"../results/summary/\"\n",
    "\n",
    "os.makedirs(output_path, exist_ok=True)\n",
    "if os.path.exists(output_path) == False:\n",
    "    os.mkdir(output_path)\n",
    "\n",
    "data = pd.read_csv(f'{input_path}data.csv')\n",
    "sentences = data['sentences'].apply(eval)\n",
    "summary=[]\n",
    "for i in tqdm(range(len(sentences))):\n",
    "    summary.append(summarize_kmeans(sentences[i],hindi=True))\n",
    "\n",
    "data['summary'] = summary\n",
    "data.to_csv(f'{output_path}kmeans.csv', index=False)"
   ]
  }
 ],
 "metadata": {
  "kernelspec": {
   "display_name": "HLDC",
   "language": "python",
   "name": "hldc"
  },
  "language_info": {
   "codemirror_mode": {
    "name": "ipython",
    "version": 3
   },
   "file_extension": ".py",
   "mimetype": "text/x-python",
   "name": "python",
   "nbconvert_exporter": "python",
   "pygments_lexer": "ipython3",
   "version": "3.10.12"
  }
 },
 "nbformat": 4,
 "nbformat_minor": 2
}
